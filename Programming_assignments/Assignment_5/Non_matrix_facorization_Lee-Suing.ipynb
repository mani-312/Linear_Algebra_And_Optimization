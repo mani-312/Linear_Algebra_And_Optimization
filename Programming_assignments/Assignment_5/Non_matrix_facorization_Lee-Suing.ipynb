{
 "cells": [
  {
   "cell_type": "markdown",
   "id": "ce693e72",
   "metadata": {},
   "source": [
    "<font size = 5><b> Generate a random 5×4 matrix X of rank 2 where every element of X is non-negative.  Use Lee-Seung’s multiplicative update algorithm to factorize this matrix as UV where U∈R5×2+ and V∈R2×4+.  Study the performance of the algorithm using different initializations of U and V</b></font>"
   ]
  },
  {
   "cell_type": "code",
   "execution_count": 49,
   "id": "b22f2125",
   "metadata": {},
   "outputs": [],
   "source": [
    "import numpy as np"
   ]
  },
  {
   "cell_type": "code",
   "execution_count": 50,
   "id": "6401f594",
   "metadata": {},
   "outputs": [],
   "source": [
    "# Rank of X is 2\n",
    "X = np.array([[1,5,2,6],[3,1,6,1],[7,7,14,8],[9,3,18,3],[5,25,10,30]])"
   ]
  },
  {
   "cell_type": "code",
   "execution_count": 51,
   "id": "ee035bb0",
   "metadata": {},
   "outputs": [
    {
     "data": {
      "text/plain": [
       "(5, 4)"
      ]
     },
     "execution_count": 51,
     "metadata": {},
     "output_type": "execute_result"
    }
   ],
   "source": [
    "X.shape"
   ]
  },
  {
   "cell_type": "code",
   "execution_count": 52,
   "id": "7c564514",
   "metadata": {},
   "outputs": [
    {
     "data": {
      "text/plain": [
       "2"
      ]
     },
     "execution_count": 52,
     "metadata": {},
     "output_type": "execute_result"
    }
   ],
   "source": [
    "from numpy.linalg import matrix_rank\n",
    "matrix_rank(X)"
   ]
  },
  {
   "cell_type": "code",
   "execution_count": 53,
   "id": "a34d8e8a",
   "metadata": {},
   "outputs": [],
   "source": [
    "# Random U,V\n",
    "U = np.random.random((5,2))*10\n",
    "V = np.random.random((2,4))*10"
   ]
  },
  {
   "cell_type": "code",
   "execution_count": 54,
   "id": "43c7efb9",
   "metadata": {},
   "outputs": [
    {
     "name": "stdout",
     "output_type": "stream",
     "text": [
      "Error ==  8.548273067255597e-07\n",
      "Epochs ==  67\n"
     ]
    }
   ],
   "source": [
    "def error(U,V,X):\n",
    "    E = X - (U @ V)\n",
    "    return np.sum(E*E)\n",
    "epochs = 0\n",
    "while error(U,V,X) > 1e-6:\n",
    "    # Multiplicative Update Rule\n",
    "    U = (U * (X@np.transpose(V))) /(U@V@np.transpose(V)) \n",
    "    V = (V * (np.transpose(U)@X)) /(np.transpose(U)@U@V) \n",
    "    epochs = epochs + 1\n",
    "print(\"Error == \",error(U,V,X))\n",
    "print(\"Epochs == \",epochs)"
   ]
  },
  {
   "cell_type": "code",
   "execution_count": 55,
   "id": "2ffad4df",
   "metadata": {},
   "outputs": [
    {
     "data": {
      "text/plain": [
       "array([[ 1,  5,  2,  6],\n",
       "       [ 3,  1,  6,  1],\n",
       "       [ 7,  7, 14,  8],\n",
       "       [ 9,  3, 18,  3],\n",
       "       [ 5, 25, 10, 30]])"
      ]
     },
     "execution_count": 55,
     "metadata": {},
     "output_type": "execute_result"
    }
   ],
   "source": [
    "X"
   ]
  },
  {
   "cell_type": "code",
   "execution_count": 56,
   "id": "599e2fb1",
   "metadata": {},
   "outputs": [
    {
     "data": {
      "text/plain": [
       "array([[ 0.99999367,  4.99999962,  2.00001548,  5.99999237],\n",
       "       [ 3.0000533 ,  0.9997052 ,  6.00008551,  0.99969085],\n",
       "       [ 7.0000425 ,  6.99987197, 14.00007094,  7.99993914],\n",
       "       [ 8.99996745,  3.0004132 , 17.99987161,  3.00066196],\n",
       "       [ 4.99996836, 24.99999812, 10.00007738, 29.99996184]])"
      ]
     },
     "execution_count": 56,
     "metadata": {},
     "output_type": "execute_result"
    }
   ],
   "source": [
    "U@V"
   ]
  },
  {
   "cell_type": "markdown",
   "id": "114cbb2e",
   "metadata": {},
   "source": [
    "<font size = 4><b> NMF from Scipy</b></font>"
   ]
  },
  {
   "cell_type": "code",
   "execution_count": 42,
   "id": "f930a25e",
   "metadata": {},
   "outputs": [],
   "source": [
    "rank = 2\n",
    "from sklearn.decomposition import NMF\n",
    "model = NMF(n_components=rank, init='random', random_state=0)\n",
    "U1 = model.fit_transform(X)\n",
    "V1 = model.components_"
   ]
  },
  {
   "cell_type": "code",
   "execution_count": 43,
   "id": "5600d9da",
   "metadata": {},
   "outputs": [
    {
     "data": {
      "text/plain": [
       "2.3320332034618876e-06"
      ]
     },
     "execution_count": 43,
     "metadata": {},
     "output_type": "execute_result"
    }
   ],
   "source": [
    "error(U1,V1,X)"
   ]
  },
  {
   "cell_type": "code",
   "execution_count": 44,
   "id": "d92bb364",
   "metadata": {},
   "outputs": [
    {
     "data": {
      "text/plain": [
       "array([[ 1,  5,  2,  6],\n",
       "       [ 3,  1,  6,  1],\n",
       "       [ 7,  7, 14,  8],\n",
       "       [ 9,  3, 18,  3],\n",
       "       [ 5, 25, 10, 30]])"
      ]
     },
     "execution_count": 44,
     "metadata": {},
     "output_type": "execute_result"
    }
   ],
   "source": [
    "X"
   ]
  },
  {
   "cell_type": "code",
   "execution_count": 45,
   "id": "4b25364f",
   "metadata": {},
   "outputs": [
    {
     "data": {
      "text/plain": [
       "array([[ 0.99999945,  5.00006344,  1.99999889,  5.99993681],\n",
       "       [ 3.00000045,  0.99999058,  6.00000091,  1.0003975 ],\n",
       "       [ 6.99999773,  7.00004711, 13.99999547,  8.00073505],\n",
       "       [ 9.00000136,  2.99997173, 18.00000272,  3.00119251],\n",
       "       [ 4.99999723, 25.00031719,  9.99999447, 29.99968405]])"
      ]
     },
     "execution_count": 45,
     "metadata": {},
     "output_type": "execute_result"
    }
   ],
   "source": [
    "U1@V1"
   ]
  },
  {
   "cell_type": "code",
   "execution_count": 46,
   "id": "3e78a32d",
   "metadata": {},
   "outputs": [
    {
     "data": {
      "text/plain": [
       "(5, 2)"
      ]
     },
     "execution_count": 46,
     "metadata": {},
     "output_type": "execute_result"
    }
   ],
   "source": [
    "U1.shape"
   ]
  },
  {
   "cell_type": "code",
   "execution_count": 47,
   "id": "2f21ef3f",
   "metadata": {},
   "outputs": [
    {
     "data": {
      "text/plain": [
       "(2, 4)"
      ]
     },
     "execution_count": 47,
     "metadata": {},
     "output_type": "execute_result"
    }
   ],
   "source": [
    "V1.shape"
   ]
  },
  {
   "cell_type": "code",
   "execution_count": null,
   "id": "a5aea129",
   "metadata": {},
   "outputs": [],
   "source": []
  }
 ],
 "metadata": {
  "kernelspec": {
   "display_name": "Python 3 (ipykernel)",
   "language": "python",
   "name": "python3"
  },
  "language_info": {
   "codemirror_mode": {
    "name": "ipython",
    "version": 3
   },
   "file_extension": ".py",
   "mimetype": "text/x-python",
   "name": "python",
   "nbconvert_exporter": "python",
   "pygments_lexer": "ipython3",
   "version": "3.10.5"
  }
 },
 "nbformat": 4,
 "nbformat_minor": 5
}
