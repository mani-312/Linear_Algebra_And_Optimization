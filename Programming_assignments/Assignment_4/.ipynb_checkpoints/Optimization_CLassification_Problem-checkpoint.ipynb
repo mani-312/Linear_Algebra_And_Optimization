{
 "cells": [
  {
   "cell_type": "code",
   "execution_count": 1,
   "id": "3427cfe5",
   "metadata": {},
   "outputs": [],
   "source": [
    "import pandas as pd\n",
    "import numpy as np\n",
    "import seaborn as sns\n",
    "import matplotlib.pyplot as plt\n",
    "import random"
   ]
  },
  {
   "cell_type": "code",
   "execution_count": 2,
   "id": "7b7d95d4",
   "metadata": {},
   "outputs": [],
   "source": [
    "df = pd.read_csv(\"Assignment4Dataset.csv\",header = None,names = [\"x1\",\"x2\",\"y\"])"
   ]
  },
  {
   "cell_type": "code",
   "execution_count": 3,
   "id": "011bb619",
   "metadata": {},
   "outputs": [
    {
     "data": {
      "text/plain": [
       "(5300, 3)"
      ]
     },
     "execution_count": 3,
     "metadata": {},
     "output_type": "execute_result"
    }
   ],
   "source": [
    "df.shape"
   ]
  },
  {
   "cell_type": "code",
   "execution_count": 4,
   "id": "7c0fca9e",
   "metadata": {},
   "outputs": [
    {
     "data": {
      "text/html": [
       "<div>\n",
       "<style scoped>\n",
       "    .dataframe tbody tr th:only-of-type {\n",
       "        vertical-align: middle;\n",
       "    }\n",
       "\n",
       "    .dataframe tbody tr th {\n",
       "        vertical-align: top;\n",
       "    }\n",
       "\n",
       "    .dataframe thead th {\n",
       "        text-align: right;\n",
       "    }\n",
       "</style>\n",
       "<table border=\"1\" class=\"dataframe\">\n",
       "  <thead>\n",
       "    <tr style=\"text-align: right;\">\n",
       "      <th></th>\n",
       "      <th>x1</th>\n",
       "      <th>x2</th>\n",
       "      <th>y</th>\n",
       "    </tr>\n",
       "  </thead>\n",
       "  <tbody>\n",
       "    <tr>\n",
       "      <th>0</th>\n",
       "      <td>1.140</td>\n",
       "      <td>-0.114</td>\n",
       "      <td>-1</td>\n",
       "    </tr>\n",
       "    <tr>\n",
       "      <th>1</th>\n",
       "      <td>-1.520</td>\n",
       "      <td>-1.150</td>\n",
       "      <td>1</td>\n",
       "    </tr>\n",
       "    <tr>\n",
       "      <th>2</th>\n",
       "      <td>-1.050</td>\n",
       "      <td>0.720</td>\n",
       "      <td>-1</td>\n",
       "    </tr>\n",
       "    <tr>\n",
       "      <th>3</th>\n",
       "      <td>-0.916</td>\n",
       "      <td>0.397</td>\n",
       "      <td>1</td>\n",
       "    </tr>\n",
       "    <tr>\n",
       "      <th>4</th>\n",
       "      <td>-1.090</td>\n",
       "      <td>0.437</td>\n",
       "      <td>1</td>\n",
       "    </tr>\n",
       "  </tbody>\n",
       "</table>\n",
       "</div>"
      ],
      "text/plain": [
       "      x1     x2  y\n",
       "0  1.140 -0.114 -1\n",
       "1 -1.520 -1.150  1\n",
       "2 -1.050  0.720 -1\n",
       "3 -0.916  0.397  1\n",
       "4 -1.090  0.437  1"
      ]
     },
     "execution_count": 4,
     "metadata": {},
     "output_type": "execute_result"
    }
   ],
   "source": [
    "df.head()"
   ]
  },
  {
   "cell_type": "code",
   "execution_count": 5,
   "id": "81edc69c",
   "metadata": {},
   "outputs": [
    {
     "data": {
      "text/html": [
       "<div>\n",
       "<style scoped>\n",
       "    .dataframe tbody tr th:only-of-type {\n",
       "        vertical-align: middle;\n",
       "    }\n",
       "\n",
       "    .dataframe tbody tr th {\n",
       "        vertical-align: top;\n",
       "    }\n",
       "\n",
       "    .dataframe thead th {\n",
       "        text-align: right;\n",
       "    }\n",
       "</style>\n",
       "<table border=\"1\" class=\"dataframe\">\n",
       "  <thead>\n",
       "    <tr style=\"text-align: right;\">\n",
       "      <th></th>\n",
       "      <th>x1</th>\n",
       "      <th>x2</th>\n",
       "      <th>y</th>\n",
       "    </tr>\n",
       "  </thead>\n",
       "  <tbody>\n",
       "    <tr>\n",
       "      <th>count</th>\n",
       "      <td>5300.000000</td>\n",
       "      <td>5300.000000</td>\n",
       "      <td>5300.000000</td>\n",
       "    </tr>\n",
       "    <tr>\n",
       "      <th>mean</th>\n",
       "      <td>0.000016</td>\n",
       "      <td>0.000018</td>\n",
       "      <td>-0.103396</td>\n",
       "    </tr>\n",
       "    <tr>\n",
       "      <th>std</th>\n",
       "      <td>0.999880</td>\n",
       "      <td>1.000038</td>\n",
       "      <td>0.994734</td>\n",
       "    </tr>\n",
       "    <tr>\n",
       "      <th>min</th>\n",
       "      <td>-3.090000</td>\n",
       "      <td>-2.390000</td>\n",
       "      <td>-1.000000</td>\n",
       "    </tr>\n",
       "    <tr>\n",
       "      <th>25%</th>\n",
       "      <td>-0.753250</td>\n",
       "      <td>-0.914000</td>\n",
       "      <td>-1.000000</td>\n",
       "    </tr>\n",
       "    <tr>\n",
       "      <th>50%</th>\n",
       "      <td>-0.015250</td>\n",
       "      <td>-0.037200</td>\n",
       "      <td>-1.000000</td>\n",
       "    </tr>\n",
       "    <tr>\n",
       "      <th>75%</th>\n",
       "      <td>0.782000</td>\n",
       "      <td>0.822500</td>\n",
       "      <td>1.000000</td>\n",
       "    </tr>\n",
       "    <tr>\n",
       "      <th>max</th>\n",
       "      <td>2.810000</td>\n",
       "      <td>3.190000</td>\n",
       "      <td>1.000000</td>\n",
       "    </tr>\n",
       "  </tbody>\n",
       "</table>\n",
       "</div>"
      ],
      "text/plain": [
       "                x1           x2            y\n",
       "count  5300.000000  5300.000000  5300.000000\n",
       "mean      0.000016     0.000018    -0.103396\n",
       "std       0.999880     1.000038     0.994734\n",
       "min      -3.090000    -2.390000    -1.000000\n",
       "25%      -0.753250    -0.914000    -1.000000\n",
       "50%      -0.015250    -0.037200    -1.000000\n",
       "75%       0.782000     0.822500     1.000000\n",
       "max       2.810000     3.190000     1.000000"
      ]
     },
     "execution_count": 5,
     "metadata": {},
     "output_type": "execute_result"
    }
   ],
   "source": [
    "df.describe()"
   ]
  },
  {
   "cell_type": "code",
   "execution_count": 6,
   "id": "e6d4c5ba",
   "metadata": {},
   "outputs": [
    {
     "data": {
      "text/plain": [
       "<seaborn.axisgrid.FacetGrid at 0x21e7b69e860>"
      ]
     },
     "execution_count": 6,
     "metadata": {},
     "output_type": "execute_result"
    },
    {
     "data": {
      "image/png": "[encoded data removed]",
      "text/plain": [
       "<Figure size 406x360 with 1 Axes>"
      ]
     },
     "metadata": {
      "needs_background": "light"
     },
     "output_type": "display_data"
    }
   ],
   "source": [
    "sns.relplot(data = df,x = \"x1\",y = \"x2\", hue = \"y\")"
   ]
  },
  {
   "cell_type": "code",
   "execution_count": 7,
   "id": "1dd02d88",
   "metadata": {},
   "outputs": [],
   "source": [
    "def fun(x):\n",
    "    return x[\"x1\"]*x[\"x2\"]\n",
    "df['x3'] = df['x1'].apply(lambda x: x*x)\n",
    "df['x4'] = df['x2'].apply(lambda x: x*x)\n",
    "df['x5'] = df.apply(lambda x: fun(x),axis = 1)"
   ]
  },
  {
   "cell_type": "code",
   "execution_count": 8,
   "id": "5d614863",
   "metadata": {},
   "outputs": [
    {
     "data": {
      "text/html": [
       "<div>\n",
       "<style scoped>\n",
       "    .dataframe tbody tr th:only-of-type {\n",
       "        vertical-align: middle;\n",
       "    }\n",
       "\n",
       "    .dataframe tbody tr th {\n",
       "        vertical-align: top;\n",
       "    }\n",
       "\n",
       "    .dataframe thead th {\n",
       "        text-align: right;\n",
       "    }\n",
       "</style>\n",
       "<table border=\"1\" class=\"dataframe\">\n",
       "  <thead>\n",
       "    <tr style=\"text-align: right;\">\n",
       "      <th></th>\n",
       "      <th>x1</th>\n",
       "      <th>x2</th>\n",
       "      <th>y</th>\n",
       "      <th>x3</th>\n",
       "      <th>x4</th>\n",
       "      <th>x5</th>\n",
       "    </tr>\n",
       "  </thead>\n",
       "  <tbody>\n",
       "    <tr>\n",
       "      <th>0</th>\n",
       "      <td>1.140</td>\n",
       "      <td>-0.114</td>\n",
       "      <td>-1</td>\n",
       "      <td>1.299600</td>\n",
       "      <td>0.012996</td>\n",
       "      <td>-0.129960</td>\n",
       "    </tr>\n",
       "    <tr>\n",
       "      <th>1</th>\n",
       "      <td>-1.520</td>\n",
       "      <td>-1.150</td>\n",
       "      <td>1</td>\n",
       "      <td>2.310400</td>\n",
       "      <td>1.322500</td>\n",
       "      <td>1.748000</td>\n",
       "    </tr>\n",
       "    <tr>\n",
       "      <th>2</th>\n",
       "      <td>-1.050</td>\n",
       "      <td>0.720</td>\n",
       "      <td>-1</td>\n",
       "      <td>1.102500</td>\n",
       "      <td>0.518400</td>\n",
       "      <td>-0.756000</td>\n",
       "    </tr>\n",
       "    <tr>\n",
       "      <th>3</th>\n",
       "      <td>-0.916</td>\n",
       "      <td>0.397</td>\n",
       "      <td>1</td>\n",
       "      <td>0.839056</td>\n",
       "      <td>0.157609</td>\n",
       "      <td>-0.363652</td>\n",
       "    </tr>\n",
       "    <tr>\n",
       "      <th>4</th>\n",
       "      <td>-1.090</td>\n",
       "      <td>0.437</td>\n",
       "      <td>1</td>\n",
       "      <td>1.188100</td>\n",
       "      <td>0.190969</td>\n",
       "      <td>-0.476330</td>\n",
       "    </tr>\n",
       "  </tbody>\n",
       "</table>\n",
       "</div>"
      ],
      "text/plain": [
       "      x1     x2  y        x3        x4        x5\n",
       "0  1.140 -0.114 -1  1.299600  0.012996 -0.129960\n",
       "1 -1.520 -1.150  1  2.310400  1.322500  1.748000\n",
       "2 -1.050  0.720 -1  1.102500  0.518400 -0.756000\n",
       "3 -0.916  0.397  1  0.839056  0.157609 -0.363652\n",
       "4 -1.090  0.437  1  1.188100  0.190969 -0.476330"
      ]
     },
     "execution_count": 8,
     "metadata": {},
     "output_type": "execute_result"
    }
   ],
   "source": [
    "df.head()"
   ]
  },
  {
   "cell_type": "code",
   "execution_count": 9,
   "id": "9979aa49",
   "metadata": {},
   "outputs": [
    {
     "data": {
      "text/plain": [
       "x1    0\n",
       "x2    0\n",
       "y     0\n",
       "x3    0\n",
       "x4    0\n",
       "x5    0\n",
       "dtype: int64"
      ]
     },
     "execution_count": 9,
     "metadata": {},
     "output_type": "execute_result"
    }
   ],
   "source": [
    "df.isna().sum()"
   ]
  },
  {
   "cell_type": "code",
   "execution_count": 10,
   "id": "248a8f34",
   "metadata": {},
   "outputs": [],
   "source": [
    "X = df[[\"x1\",\"x2\",\"x3\",\"x4\",\"x5\"]].to_numpy()\n",
    "Y = df[\"y\"].to_numpy().reshape(-1,1)"
   ]
  },
  {
   "cell_type": "code",
   "execution_count": 11,
   "id": "3f44b65d",
   "metadata": {},
   "outputs": [
    {
     "data": {
      "text/plain": [
       "(5300, 5)"
      ]
     },
     "execution_count": 11,
     "metadata": {},
     "output_type": "execute_result"
    }
   ],
   "source": [
    "X.shape"
   ]
  },
  {
   "cell_type": "code",
   "execution_count": 12,
   "id": "4c9c6ac0",
   "metadata": {},
   "outputs": [
    {
     "data": {
      "text/plain": [
       "(5300, 1)"
      ]
     },
     "execution_count": 12,
     "metadata": {},
     "output_type": "execute_result"
    }
   ],
   "source": [
    "Y.shape"
   ]
  },
  {
   "cell_type": "code",
   "execution_count": 13,
   "id": "3cfeaa12",
   "metadata": {},
   "outputs": [
    {
     "data": {
      "text/plain": [
       "array([[ 1.14    , -0.114   ,  1.2996  ,  0.012996, -0.12996 ],\n",
       "       [-1.52    , -1.15    ,  2.3104  ,  1.3225  ,  1.748   ],\n",
       "       [-1.05    ,  0.72    ,  1.1025  ,  0.5184  , -0.756   ],\n",
       "       ...,\n",
       "       [ 2.64    ,  1.14    ,  6.9696  ,  1.2996  ,  3.0096  ],\n",
       "       [ 0.769   ,  0.772   ,  0.591361,  0.595984,  0.593668],\n",
       "       [-0.255   , -0.142   ,  0.065025,  0.020164,  0.03621 ]])"
      ]
     },
     "execution_count": 13,
     "metadata": {},
     "output_type": "execute_result"
    }
   ],
   "source": [
    "X"
   ]
  },
  {
   "cell_type": "code",
   "execution_count": 14,
   "id": "b4271d3a",
   "metadata": {},
   "outputs": [],
   "source": [
    "x_train = X[:400]\n",
    "y_train = Y[:400]\n",
    "\n",
    "x_test = X[400:]\n",
    "y_test = Y[400:]"
   ]
  },
  {
   "cell_type": "code",
   "execution_count": 15,
   "id": "cdc86e2f",
   "metadata": {},
   "outputs": [
    {
     "data": {
      "text/plain": [
       "(400, 5)"
      ]
     },
     "execution_count": 15,
     "metadata": {},
     "output_type": "execute_result"
    }
   ],
   "source": [
    "x_train.shape"
   ]
  },
  {
   "cell_type": "code",
   "execution_count": 16,
   "id": "56f47c46",
   "metadata": {},
   "outputs": [
    {
     "data": {
      "text/plain": [
       "(400, 1)"
      ]
     },
     "execution_count": 16,
     "metadata": {},
     "output_type": "execute_result"
    }
   ],
   "source": [
    "y_train.shape"
   ]
  },
  {
   "cell_type": "code",
   "execution_count": 17,
   "id": "1b10a60d",
   "metadata": {},
   "outputs": [],
   "source": [
    "n = x_train.shape[0]\n",
    "d = x_train.shape[1]"
   ]
  },
  {
   "cell_type": "code",
   "execution_count": null,
   "id": "4fa90015",
   "metadata": {},
   "outputs": [],
   "source": []
  },
  {
   "cell_type": "code",
   "execution_count": null,
   "id": "eb2ddf28",
   "metadata": {},
   "outputs": [],
   "source": []
  },
  {
   "cell_type": "markdown",
   "id": "685a782e",
   "metadata": {},
   "source": [
    "<b> Regression with only Empirical_Error</b>"
   ]
  },
  {
   "cell_type": "markdown",
   "id": "8ff2f543",
   "metadata": {},
   "source": [
    "<b> Direct_inverse</b>"
   ]
  },
  {
   "cell_type": "code",
   "execution_count": 18,
   "id": "a99104a7",
   "metadata": {},
   "outputs": [],
   "source": [
    "def regression_inverse(x,y):\n",
    "    xT = x.transpose()\n",
    "    w = np.linalg.inv(xT @ x) @ xT @ y\n",
    "    return w"
   ]
  },
  {
   "cell_type": "code",
   "execution_count": 19,
   "id": "b3a10d86",
   "metadata": {},
   "outputs": [],
   "source": [
    "w_regression_inverse = regression_inverse(x_train,y_train)"
   ]
  },
  {
   "cell_type": "code",
   "execution_count": 20,
   "id": "76318a88",
   "metadata": {},
   "outputs": [],
   "source": [
    "df_columns = [\"x1\",\"x2\",\"x3\",\"x4\",\"x5\",\"y\"]\n",
    "df_test = df.loc[400:][df_columns]"
   ]
  },
  {
   "cell_type": "code",
   "execution_count": 21,
   "id": "d2473e07",
   "metadata": {},
   "outputs": [],
   "source": [
    "def dot_product(u,v):\n",
    "    return (u.transpose() @ v)[0][0]\n",
    "def predict(w,x):\n",
    "    return dot_product(x.to_numpy().reshape(-1,1),w)\n",
    "df_test[\"y_pred\"] = df_test.drop('y', axis=1).apply(lambda x: predict(w_regression_inverse,x),axis = 1)"
   ]
  },
  {
   "cell_type": "code",
   "execution_count": 22,
   "id": "b4a1b57b",
   "metadata": {},
   "outputs": [
    {
     "data": {
      "text/html": [
       "<div>\n",
       "<style scoped>\n",
       "    .dataframe tbody tr th:only-of-type {\n",
       "        vertical-align: middle;\n",
       "    }\n",
       "\n",
       "    .dataframe tbody tr th {\n",
       "        vertical-align: top;\n",
       "    }\n",
       "\n",
       "    .dataframe thead th {\n",
       "        text-align: right;\n",
       "    }\n",
       "</style>\n",
       "<table border=\"1\" class=\"dataframe\">\n",
       "  <thead>\n",
       "    <tr style=\"text-align: right;\">\n",
       "      <th></th>\n",
       "      <th>x1</th>\n",
       "      <th>x2</th>\n",
       "      <th>x3</th>\n",
       "      <th>x4</th>\n",
       "      <th>x5</th>\n",
       "      <th>y</th>\n",
       "      <th>y_pred</th>\n",
       "    </tr>\n",
       "  </thead>\n",
       "  <tbody>\n",
       "    <tr>\n",
       "      <th>400</th>\n",
       "      <td>-1.690</td>\n",
       "      <td>-0.175</td>\n",
       "      <td>2.856100</td>\n",
       "      <td>0.030625</td>\n",
       "      <td>0.295750</td>\n",
       "      <td>-1</td>\n",
       "      <td>0.161305</td>\n",
       "    </tr>\n",
       "    <tr>\n",
       "      <th>401</th>\n",
       "      <td>-0.298</td>\n",
       "      <td>-1.260</td>\n",
       "      <td>0.088804</td>\n",
       "      <td>1.587600</td>\n",
       "      <td>0.375480</td>\n",
       "      <td>-1</td>\n",
       "      <td>-0.185358</td>\n",
       "    </tr>\n",
       "    <tr>\n",
       "      <th>402</th>\n",
       "      <td>0.301</td>\n",
       "      <td>-1.170</td>\n",
       "      <td>0.090601</td>\n",
       "      <td>1.368900</td>\n",
       "      <td>-0.352170</td>\n",
       "      <td>-1</td>\n",
       "      <td>-0.242622</td>\n",
       "    </tr>\n",
       "    <tr>\n",
       "      <th>403</th>\n",
       "      <td>0.975</td>\n",
       "      <td>1.480</td>\n",
       "      <td>0.950625</td>\n",
       "      <td>2.190400</td>\n",
       "      <td>1.443000</td>\n",
       "      <td>-1</td>\n",
       "      <td>-0.292625</td>\n",
       "    </tr>\n",
       "    <tr>\n",
       "      <th>404</th>\n",
       "      <td>-0.853</td>\n",
       "      <td>-0.254</td>\n",
       "      <td>0.727609</td>\n",
       "      <td>0.064516</td>\n",
       "      <td>0.216662</td>\n",
       "      <td>1</td>\n",
       "      <td>0.057483</td>\n",
       "    </tr>\n",
       "  </tbody>\n",
       "</table>\n",
       "</div>"
      ],
      "text/plain": [
       "        x1     x2        x3        x4        x5  y    y_pred\n",
       "400 -1.690 -0.175  2.856100  0.030625  0.295750 -1  0.161305\n",
       "401 -0.298 -1.260  0.088804  1.587600  0.375480 -1 -0.185358\n",
       "402  0.301 -1.170  0.090601  1.368900 -0.352170 -1 -0.242622\n",
       "403  0.975  1.480  0.950625  2.190400  1.443000 -1 -0.292625\n",
       "404 -0.853 -0.254  0.727609  0.064516  0.216662  1  0.057483"
      ]
     },
     "execution_count": 22,
     "metadata": {},
     "output_type": "execute_result"
    }
   ],
   "source": [
    "df_test.head()"
   ]
  },
  {
   "cell_type": "code",
   "execution_count": null,
   "id": "bac77272",
   "metadata": {},
   "outputs": [],
   "source": []
  },
  {
   "cell_type": "code",
   "execution_count": null,
   "id": "7bad8204",
   "metadata": {},
   "outputs": [],
   "source": []
  },
  {
   "cell_type": "code",
   "execution_count": null,
   "id": "900ff8b8",
   "metadata": {},
   "outputs": [],
   "source": []
  },
  {
   "cell_type": "code",
   "execution_count": null,
   "id": "e37ffef3",
   "metadata": {},
   "outputs": [],
   "source": []
  },
  {
   "cell_type": "markdown",
   "id": "02948a32",
   "metadata": {},
   "source": [
    "<b> Steepest Grad Descent(Backtracking Line Search)</b>"
   ]
  },
  {
   "cell_type": "code",
   "execution_count": 23,
   "id": "2b9aadd0",
   "metadata": {},
   "outputs": [],
   "source": [
    "def gradient_empirical(x,y,w):\n",
    "    xT = x.transpose()\n",
    "    return xT @ ((x @ w) - y)\n",
    "\n",
    "def error_empirical(x,y,w):\n",
    "    diff = (x @ w) - y\n",
    "    return dot_product(diff,diff)/2\n",
    "\n",
    "# Backtracking line search\n",
    "def get_alpha(x,y,w,d):\n",
    "    g = -d\n",
    "    alpha = 0.5\n",
    "    c1 = 1e-4\n",
    "    p = 0.3\n",
    "    while error_empirical(x,y,w+alpha*d) > (error_empirical(x,y,w) + c1*alpha*dot_product(g,d)):\n",
    "        alpha = p*alpha\n",
    "    return alpha\n",
    "\n",
    "def regression_sd(x,y):\n",
    "    (n,d) = x.shape\n",
    "    T = 1\n",
    "    # This is random\n",
    "    w = np.random.rand(d,1)\n",
    "    grad = gradient_empirical(x,y,w)\n",
    "    df_error = pd.DataFrame(columns = [\"Iteration\",\"Error\"])\n",
    "\n",
    "    while np.linalg.norm(grad) > 1e-4:\n",
    "        grad = gradient_empirical(x,y,w)\n",
    "        err = error_empirical(x,y,w)\n",
    "        df_error.loc[T-1] = [T,err]\n",
    "        print(\"Error = \",err,\"Gradient = \",np.linalg.norm(grad))\n",
    "        dk = -grad\n",
    "        alpha = get_alpha(x,y,w,dk)\n",
    "        w = w + (alpha*dk)\n",
    "        T = T+1\n",
    "    return w,df_error\n",
    "\n",
    "    "
   ]
  },
  {
   "cell_type": "code",
   "execution_count": 24,
   "id": "4fabc133",
   "metadata": {},
   "outputs": [
    {
     "name": "stdout",
     "output_type": "stream",
     "text": [
      "Error =  684.3202350303022 Gradient =  790.9294032111637\n",
      "Error =  290.45431335056657 Gradient =  366.6230131368186\n",
      "Error =  207.84567437623673 Gradient =  172.00549947080378\n",
      "Error =  189.88802072995747 Gradient =  82.18212808342984\n",
      "Error =  185.75353339790576 Gradient =  40.356043780482196\n",
      "Error =  184.71686642990792 Gradient =  20.59829521680203\n",
      "Error =  184.42673979028248 Gradient =  11.034313171092263\n",
      "Error =  184.33547794031574 Gradient =  6.221571734006117\n",
      "Error =  184.30372148530915 Gradient =  3.670450025049221\n",
      "Error =  184.29900950227736 Gradient =  5.867369490264104\n",
      "Error =  184.28756102678452 Gradient =  2.8224079387264065\n",
      "Error =  184.28487529782637 Gradient =  1.3624943911511391\n",
      "Error =  184.28423241871536 Gradient =  0.6616962385462589\n",
      "Error =  184.28407349220836 Gradient =  0.3246060057045639\n",
      "Error =  184.28403223638293 Gradient =  0.16185821669152614\n",
      "Error =  184.28402077786217 Gradient =  0.08273133333979416\n",
      "Error =  184.28401732269512 Gradient =  0.04375515960114481\n",
      "Error =  184.28401618778688 Gradient =  0.024114659164807185\n",
      "Error =  184.28401578568577 Gradient =  0.01386696533905517\n",
      "Error =  184.28401563471752 Gradient =  0.00827673900390178\n",
      "Error =  184.28401562682805 Gradient =  0.014679510556992646\n",
      "Error =  184.28401555732796 Gradient =  0.007063439667608658\n",
      "Error =  184.28401554099713 Gradient =  0.0034082113681745334\n",
      "Error =  184.28401553709682 Gradient =  0.0016525120490403073\n",
      "Error =  184.28401553613983 Gradient =  0.0008079332551128927\n",
      "Error =  184.2840155358949 Gradient =  0.00040048717804672205\n",
      "Error =  184.2840155358283 Gradient =  0.00020284372567224156\n",
      "Error =  184.2840155358087 Gradient =  0.00010596366664252643\n",
      "Error =  184.2840155358024 Gradient =  5.756936941334126e-05\n"
     ]
    }
   ],
   "source": [
    "w_regression_sd,df_error_regression_sd = regression_sd(x_train,y_train)"
   ]
  },
  {
   "cell_type": "code",
   "execution_count": 25,
   "id": "9d04a447",
   "metadata": {},
   "outputs": [
    {
     "data": {
      "text/plain": [
       "array([[ 0.02128058],\n",
       "       [-0.07705145],\n",
       "       [ 0.05102615],\n",
       "       [-0.21239494],\n",
       "       [ 0.15064839]])"
      ]
     },
     "execution_count": 25,
     "metadata": {},
     "output_type": "execute_result"
    }
   ],
   "source": [
    "w_regression_sd"
   ]
  },
  {
   "cell_type": "code",
   "execution_count": 26,
   "id": "cea81f0b",
   "metadata": {},
   "outputs": [
    {
     "data": {
      "text/html": [
       "<div>\n",
       "<style scoped>\n",
       "    .dataframe tbody tr th:only-of-type {\n",
       "        vertical-align: middle;\n",
       "    }\n",
       "\n",
       "    .dataframe tbody tr th {\n",
       "        vertical-align: top;\n",
       "    }\n",
       "\n",
       "    .dataframe thead th {\n",
       "        text-align: right;\n",
       "    }\n",
       "</style>\n",
       "<table border=\"1\" class=\"dataframe\">\n",
       "  <thead>\n",
       "    <tr style=\"text-align: right;\">\n",
       "      <th></th>\n",
       "      <th>Iteration</th>\n",
       "      <th>Error</th>\n",
       "    </tr>\n",
       "  </thead>\n",
       "  <tbody>\n",
       "    <tr>\n",
       "      <th>0</th>\n",
       "      <td>1.0</td>\n",
       "      <td>684.320235</td>\n",
       "    </tr>\n",
       "    <tr>\n",
       "      <th>1</th>\n",
       "      <td>2.0</td>\n",
       "      <td>290.454313</td>\n",
       "    </tr>\n",
       "    <tr>\n",
       "      <th>2</th>\n",
       "      <td>3.0</td>\n",
       "      <td>207.845674</td>\n",
       "    </tr>\n",
       "    <tr>\n",
       "      <th>3</th>\n",
       "      <td>4.0</td>\n",
       "      <td>189.888021</td>\n",
       "    </tr>\n",
       "    <tr>\n",
       "      <th>4</th>\n",
       "      <td>5.0</td>\n",
       "      <td>185.753533</td>\n",
       "    </tr>\n",
       "  </tbody>\n",
       "</table>\n",
       "</div>"
      ],
      "text/plain": [
       "   Iteration       Error\n",
       "0        1.0  684.320235\n",
       "1        2.0  290.454313\n",
       "2        3.0  207.845674\n",
       "3        4.0  189.888021\n",
       "4        5.0  185.753533"
      ]
     },
     "execution_count": 26,
     "metadata": {},
     "output_type": "execute_result"
    }
   ],
   "source": [
    "df_error_regression_sd.head()"
   ]
  },
  {
   "cell_type": "code",
   "execution_count": 27,
   "id": "fff3449a",
   "metadata": {},
   "outputs": [
    {
     "data": {
      "text/plain": [
       "<AxesSubplot:xlabel='Iteration', ylabel='Error'>"
      ]
     },
     "execution_count": 27,
     "metadata": {},
     "output_type": "execute_result"
    },
    {
     "data": {
      "image/png": "[encoded data removed]",
      "text/plain": [
       "<Figure size 640x480 with 1 Axes>"
      ]
     },
     "metadata": {},
     "output_type": "display_data"
    }
   ],
   "source": [
    "sns.lineplot(data = df_error_regression_sd,y = \"Error\",x = \"Iteration\")"
   ]
  },
  {
   "cell_type": "code",
   "execution_count": null,
   "id": "b53fe02c",
   "metadata": {},
   "outputs": [],
   "source": []
  },
  {
   "cell_type": "code",
   "execution_count": null,
   "id": "b2dff36f",
   "metadata": {},
   "outputs": [],
   "source": []
  },
  {
   "cell_type": "markdown",
   "id": "ffb56750",
   "metadata": {},
   "source": [
    "<b> Scaled Ridge Regression</b>"
   ]
  },
  {
   "cell_type": "markdown",
   "id": "5506b17d",
   "metadata": {},
   "source": [
    "<b> Direct_Inverse</b>"
   ]
  },
  {
   "cell_type": "code",
   "execution_count": 28,
   "id": "3c1f8187",
   "metadata": {},
   "outputs": [],
   "source": [
    "def ridge_inverse(x,y,lamda):\n",
    "    (n,d) = x.shape\n",
    "    xT = x.transpose()\n",
    "    I = np.identity(d)\n",
    "    w = np.linalg.inv((xT @ x)/n + lamda*I) @ (xT @ y)/n\n",
    "    return w"
   ]
  },
  {
   "cell_type": "code",
   "execution_count": 34,
   "id": "cb090f4d",
   "metadata": {},
   "outputs": [],
   "source": [
    "w_ridge_inverse = ridge_inverse(x_train,y_train,1)"
   ]
  },
  {
   "cell_type": "code",
   "execution_count": 35,
   "id": "f529ca45",
   "metadata": {},
   "outputs": [
    {
     "data": {
      "text/plain": [
       "array([[ 0.01017747],\n",
       "       [-0.04103158],\n",
       "       [ 0.02118906],\n",
       "       [-0.11517059],\n",
       "       [ 0.05933716]])"
      ]
     },
     "execution_count": 35,
     "metadata": {},
     "output_type": "execute_result"
    }
   ],
   "source": [
    "w_ridge_inverse"
   ]
  },
  {
   "cell_type": "code",
   "execution_count": null,
   "id": "94f1a352",
   "metadata": {},
   "outputs": [],
   "source": []
  },
  {
   "cell_type": "markdown",
   "id": "c454d011",
   "metadata": {},
   "source": [
    "<b> Steepest Descent(Backtracking Line Search) </b>"
   ]
  },
  {
   "cell_type": "code",
   "execution_count": 46,
   "id": "5e315d9d",
   "metadata": {},
   "outputs": [],
   "source": [
    "def gradient_regularizer(w,lamda):\n",
    "    return lamda*w\n",
    "def gradient_ridge(x,y,w,lamda):\n",
    "    n = x.shape[0]\n",
    "    return gradient_empirical(x,y,w)/n + gradient_regularizer(w,lamda)\n",
    "\n",
    "def error_regularizer(w,lamda):\n",
    "    return (lamda * dot_product(w,w))/2\n",
    "\n",
    "def error_ridge(x,y,w,lamda):\n",
    "    return error_empirical(x,y,w)/n+error_regularizer(w,lamda)\n",
    "\n",
    "# Backtracking line search\n",
    "def get_alpha(x,y,w,d,lamda):\n",
    "    g = -d\n",
    "    alpha = 0.5\n",
    "    c1 = 1e-4\n",
    "    p = 0.3\n",
    "    while error_ridge(x,y,w+alpha*d,lamda) > (error_ridge(x,y,w,lamda) + c1*alpha*dot_product(g,d)):\n",
    "        alpha = p*alpha\n",
    "    return alpha\n",
    "\n",
    "def ridge_sd(x,y,lamda):\n",
    "    # This is random\n",
    "    w = np.random.rand(d,1)\n",
    "    grad = gradient_ridge(x,y,w,lamda)\n",
    "    T = 1\n",
    "    df_error = pd.DataFrame(columns = [\"Iteration\",\"Error\"])\n",
    "\n",
    "    while np.linalg.norm(grad) > 1e-3 and T<50:\n",
    "        grad = gradient_ridge(x,y,w,lamda)\n",
    "        err = error_ridge(x,y,w,lamda)\n",
    "        df_error.loc[T-1] = [T,err]\n",
    "        #print(\"Error = \",err,\"Gradient = \",np.linalg.norm(grad))\n",
    "        dk = -grad\n",
    "        alpha = get_alpha(x,y,w,dk,lamda)\n",
    "        w = w + (alpha*dk)\n",
    "        T = T+1\n",
    "    print(\"Error = \",err,\"Gradient = \",np.linalg.norm(grad))\n",
    "    return w,df_error\n",
    "    "
   ]
  },
  {
   "cell_type": "code",
   "execution_count": 320,
   "id": "6824894c",
   "metadata": {},
   "outputs": [],
   "source": [
    "def get_val_error(x_tr,y_tr,x_te,y_te,lamda,error_type,T,alpha,batch_size):\n",
    "    if (error_type == \"ridge_sd\"):\n",
    "        w,_ = ridge_sd(x_tr,y_tr,lamda)\n",
    "    elif error_type == \"ridge_sgd\":\n",
    "        w,_ = ridge_sgd(x_tr,y_tr,lamda,alpha,T)\n",
    "    elif error_type == \"ridge_mgd\":\n",
    "        w,_ = ridge_mgd(x_tr,y_tr,lamda,alpha,batch_size,T)\n",
    "    return error_ridge(x_te,y_te,w,lamda)\n",
    "def k_fold_val_error(x,y,lamda,error_type,T = None,alpha = None,batch_size = None):\n",
    "    (n,d) = x.shape\n",
    "    folds = 4\n",
    "    fold_size = n//folds\n",
    "    val_error = 0\n",
    "    for i in range(folds):\n",
    "        x_te = x[fold_size*i:fold_size*(i+1)]\n",
    "        y_te = y[fold_size*i:fold_size*(i+1)]\n",
    "        \n",
    "        x_tr = np.concatenate((x[:fold_size*i],x[fold_size*(i+1):]),axis = 0)\n",
    "        y_tr = np.concatenate((y[:fold_size*i],y[fold_size*(i+1):]),axis = 0)\n",
    "        val_error = val_error + get_val_error(x_tr,y_tr,x_te,y_te,lamda,error_type,T,alpha,batch_size)\n",
    "    return val_error/folds"
   ]
  },
  {
   "cell_type": "code",
   "execution_count": 324,
   "id": "89cd02a0",
   "metadata": {},
   "outputs": [
    {
     "name": "stdout",
     "output_type": "stream",
     "text": [
      "Error =  0.3367062020013607 Gradient =  0.0008144658253646459\n",
      "Error =  0.34624933516698536 Gradient =  0.0006392098011842727\n",
      "Error =  0.35334002854744073 Gradient =  0.0009044681445229335\n",
      "Error =  0.3401865333482861 Gradient =  0.0008334632905457312\n",
      "Lamda =  9e-05 Val_error 0.11850098997185107\n",
      "Error =  0.3367067259827281 Gradient =  0.0006643686938943755\n",
      "Error =  0.3462498370429855 Gradient =  0.0006572861186099988\n",
      "Error =  0.3533403574837522 Gradient =  0.0005973015809423545\n",
      "Error =  0.3401871421067956 Gradient =  0.0006432731125161436\n",
      "Lamda =  0.0001035 Val_error 0.11849461896586301\n",
      "Error =  0.3367074351494313 Gradient =  0.0008209417514381606\n",
      "Error =  0.3462506519698537 Gradient =  0.0009761886898170497\n",
      "Error =  0.3533408531252587 Gradient =  0.0009160431204842646\n",
      "Error =  0.34018793504377276 Gradient =  0.0008677430843974768\n",
      "Lamda =  0.00011902499999999998 Val_error 0.118493468336226\n",
      "Error =  0.3367083381664196 Gradient =  0.0006880191526532424\n",
      "Error =  0.3462510539281204 Gradient =  0.000781261971543887\n",
      "Error =  0.3533414092411976 Gradient =  0.0008637624824137979\n",
      "Error =  0.3401887755624567 Gradient =  0.000919744735809015\n",
      "Lamda =  0.00013687874999999996 Val_error 0.11849610456677129\n",
      "Error =  0.33670932207472204 Gradient =  0.000697994591528095\n",
      "Error =  0.34625170808529654 Gradient =  0.0007053496591587774\n",
      "Error =  0.3533418862965285 Gradient =  0.0005993570148233048\n",
      "Error =  0.34018972949566456 Gradient =  0.0008050929060218641\n",
      "Lamda =  0.00015741056249999995 Val_error 0.11849679729474755\n",
      "Error =  0.3367105394717671 Gradient =  0.0008008163631737014\n",
      "Error =  0.3462525183026305 Gradient =  0.0007295683252865649\n",
      "Error =  0.35334259267124724 Gradient =  0.0008233270031073172\n",
      "Error =  0.3401908324965055 Gradient =  0.0007115740983534478\n",
      "Lamda =  0.00018102214687499993 Val_error 0.11850536667022685\n"
     ]
    }
   ],
   "source": [
    "df_ridge_sd_lamda = pd.DataFrame(columns = [\"Lamda\",\"Val_error\"])\n",
    "low_ld = 9*1e-5\n",
    "hi_ld = 2*1e-4\n",
    "r = 1.15\n",
    "t = 1\n",
    "while low_ld <= hi_ld:\n",
    "    val_error = k_fold_val_error(x_train,y_train,low_ld,\"ridge_sd\")\n",
    "    print(\"Lamda = \",low_ld,\"Val_error\",val_error)\n",
    "    df_ridge_sd_lamda.loc[t-1] = [low_ld,val_error]\n",
    "    t = t+1\n",
    "    low_ld = low_ld * r"
   ]
  },
  {
   "cell_type": "code",
   "execution_count": 325,
   "id": "b7fd5d9f",
   "metadata": {
    "scrolled": true
   },
   "outputs": [
    {
     "data": {
      "text/html": [
       "<div>\n",
       "<style scoped>\n",
       "    .dataframe tbody tr th:only-of-type {\n",
       "        vertical-align: middle;\n",
       "    }\n",
       "\n",
       "    .dataframe tbody tr th {\n",
       "        vertical-align: top;\n",
       "    }\n",
       "\n",
       "    .dataframe thead th {\n",
       "        text-align: right;\n",
       "    }\n",
       "</style>\n",
       "<table border=\"1\" class=\"dataframe\">\n",
       "  <thead>\n",
       "    <tr style=\"text-align: right;\">\n",
       "      <th></th>\n",
       "      <th>Lamda</th>\n",
       "      <th>Val_error</th>\n",
       "    </tr>\n",
       "  </thead>\n",
       "  <tbody>\n",
       "    <tr>\n",
       "      <th>0</th>\n",
       "      <td>0.000090</td>\n",
       "      <td>0.118501</td>\n",
       "    </tr>\n",
       "    <tr>\n",
       "      <th>1</th>\n",
       "      <td>0.000103</td>\n",
       "      <td>0.118495</td>\n",
       "    </tr>\n",
       "    <tr>\n",
       "      <th>2</th>\n",
       "      <td>0.000119</td>\n",
       "      <td>0.118493</td>\n",
       "    </tr>\n",
       "    <tr>\n",
       "      <th>3</th>\n",
       "      <td>0.000137</td>\n",
       "      <td>0.118496</td>\n",
       "    </tr>\n",
       "    <tr>\n",
       "      <th>4</th>\n",
       "      <td>0.000157</td>\n",
       "      <td>0.118497</td>\n",
       "    </tr>\n",
       "    <tr>\n",
       "      <th>5</th>\n",
       "      <td>0.000181</td>\n",
       "      <td>0.118505</td>\n",
       "    </tr>\n",
       "  </tbody>\n",
       "</table>\n",
       "</div>"
      ],
      "text/plain": [
       "      Lamda  Val_error\n",
       "0  0.000090   0.118501\n",
       "1  0.000103   0.118495\n",
       "2  0.000119   0.118493\n",
       "3  0.000137   0.118496\n",
       "4  0.000157   0.118497\n",
       "5  0.000181   0.118505"
      ]
     },
     "execution_count": 325,
     "metadata": {},
     "output_type": "execute_result"
    }
   ],
   "source": [
    "df_ridge_sd_lamda"
   ]
  },
  {
   "cell_type": "code",
   "execution_count": 326,
   "id": "96c2f1d2",
   "metadata": {
    "scrolled": false
   },
   "outputs": [
    {
     "data": {
      "text/plain": [
       "<AxesSubplot:xlabel='Lamda', ylabel='Val_error'>"
      ]
     },
     "execution_count": 326,
     "metadata": {},
     "output_type": "execute_result"
    },
    {
     "data": {
      "image/png": "[encoded data removed]",
      "text/plain": [
       "<Figure size 640x480 with 1 Axes>"
      ]
     },
     "metadata": {},
     "output_type": "display_data"
    }
   ],
   "source": [
    "sns.lineplot(data = df_ridge_sd_lamda,y = \"Val_error\",x = \"Lamda\")"
   ]
  },
  {
   "cell_type": "markdown",
   "id": "541011d0",
   "metadata": {},
   "source": [
    "<b>So lamda = 12*1e-5</b>"
   ]
  },
  {
   "cell_type": "code",
   "execution_count": 303,
   "id": "58c261ac",
   "metadata": {},
   "outputs": [
    {
     "name": "stdout",
     "output_type": "stream",
     "text": [
      "Error =  0.46071480680499516 Gradient =  0.0007987615140973515\n"
     ]
    }
   ],
   "source": [
    "w_ridge_sd,df_error_ridge_sd = ridge_sd(x_train,y_train,12*1e-5) "
   ]
  },
  {
   "cell_type": "code",
   "execution_count": 304,
   "id": "c1d78d9c",
   "metadata": {},
   "outputs": [
    {
     "data": {
      "text/plain": [
       "0.4607146978679554"
      ]
     },
     "execution_count": 304,
     "metadata": {},
     "output_type": "execute_result"
    }
   ],
   "source": [
    "error_ridge(x_train,y_train,w_ridge_sd,12*1e-5)"
   ]
  },
  {
   "cell_type": "code",
   "execution_count": 305,
   "id": "e02b4793",
   "metadata": {},
   "outputs": [
    {
     "data": {
      "text/plain": [
       "5.6510744415294925"
      ]
     },
     "execution_count": 305,
     "metadata": {},
     "output_type": "execute_result"
    }
   ],
   "source": [
    "error_ridge(x_test,y_test,w_ridge_sd,12*1e-5)"
   ]
  },
  {
   "cell_type": "code",
   "execution_count": 375,
   "id": "312fc864",
   "metadata": {},
   "outputs": [],
   "source": [
    "def test_accuracy(x,y,w):\n",
    "    (n,d) = x.shape\n",
    "    pred = n - (np.logical_xor((x @ w) > 0, y>0).sum())\n",
    "    return (pred/n) * 100"
   ]
  },
  {
   "cell_type": "code",
   "execution_count": 376,
   "id": "5684b39f",
   "metadata": {},
   "outputs": [
    {
     "data": {
      "text/plain": [
       "64.75"
      ]
     },
     "execution_count": 376,
     "metadata": {},
     "output_type": "execute_result"
    }
   ],
   "source": [
    "test_accuracy(x_train,y_train,w_ridge_sd)"
   ]
  },
  {
   "cell_type": "code",
   "execution_count": 377,
   "id": "9bc65cd4",
   "metadata": {},
   "outputs": [
    {
     "data": {
      "text/plain": [
       "64.10204081632654"
      ]
     },
     "execution_count": 377,
     "metadata": {},
     "output_type": "execute_result"
    }
   ],
   "source": [
    "test_accuracy(x_test,y_test,w_ridge_sd)"
   ]
  },
  {
   "cell_type": "code",
   "execution_count": 255,
   "id": "31ec3f36",
   "metadata": {},
   "outputs": [
    {
     "data": {
      "text/plain": [
       "<AxesSubplot:xlabel='Iteration', ylabel='Error'>"
      ]
     },
     "execution_count": 255,
     "metadata": {},
     "output_type": "execute_result"
    },
    {
     "data": {
      "image/png": "[encoded data removed]",
      "text/plain": [
       "<Figure size 640x480 with 1 Axes>"
      ]
     },
     "metadata": {},
     "output_type": "display_data"
    }
   ],
   "source": [
    "sns.lineplot(data = df_error_ridge_sd,y = \"Error\",x = \"Iteration\")"
   ]
  },
  {
   "cell_type": "code",
   "execution_count": null,
   "id": "f77134c4",
   "metadata": {},
   "outputs": [],
   "source": []
  },
  {
   "cell_type": "markdown",
   "id": "8cca6f13",
   "metadata": {},
   "source": [
    "<b> Stochastic Gradient</b>"
   ]
  },
  {
   "cell_type": "code",
   "execution_count": 340,
   "id": "fe749746",
   "metadata": {},
   "outputs": [],
   "source": [
    "def gradient_stochastic(xi,yi,w,lamda):\n",
    "    return -(yi - dot_product(w,xi))*xi + lamda * w\n",
    "\n",
    "def ridge_sgd(x,y,lamda,alpha,T):\n",
    "    (n,d) = x.shape\n",
    "    # This is random\n",
    "    w = np.random.rand(d,1)\n",
    "    df_error = pd.DataFrame(columns = [\"Iteration\",\"Error\"])\n",
    "    for t in range(1,T):\n",
    "        err = error_ridge(x,y,w,lamda)\n",
    "        df_error.loc[t-1] = [t,err]\n",
    "        #print(\"Error = \",err)\n",
    "        i = random.randint(0, n-1)\n",
    "        xi = x[i].reshape(-1,1)\n",
    "        grad = gradient_stochastic(xi,y[i],w,lamda)\n",
    "        dk = -grad\n",
    "        alpha = 1/(lamda*t)\n",
    "        w = w + alpha * dk\n",
    "\n",
    "    print(\"Error = \",err,\"Gradient = \",np.linalg.norm(grad))\n",
    "    return w,df_error"
   ]
  },
  {
   "cell_type": "code",
   "execution_count": 357,
   "id": "6ca05166",
   "metadata": {},
   "outputs": [
    {
     "name": "stdout",
     "output_type": "stream",
     "text": [
      "Error =  0.3752225981168909 Gradient =  1.8646724892575344\n",
      "Error =  0.37609573550428094 Gradient =  6.111932973869122\n",
      "Error =  0.3759222033368261 Gradient =  1.3835652039220128\n",
      "Error =  0.37741964568590075 Gradient =  1.2866922823621771\n",
      "Lamda =  100.0 Val_error 0.1263324542112494\n",
      "Error =  0.3784593924192702 Gradient =  5.321503778650966\n",
      "Error =  0.3758157901592488 Gradient =  1.1120147267694986\n",
      "Error =  0.3751400449943415 Gradient =  1.1105223241734774\n",
      "Error =  0.3754861604438362 Gradient =  3.31892294599133\n",
      "Lamda =  200.0 Val_error 0.12641151723771793\n",
      "Error =  0.37599056887814714 Gradient =  3.0567902592248997\n",
      "Error =  0.3756666873138248 Gradient =  4.463567647965918\n",
      "Error =  0.3759090138493801 Gradient =  2.554490247459447\n",
      "Error =  0.375507675667606 Gradient =  2.7986061672665263\n",
      "Lamda =  400.0 Val_error 0.125789485680637\n",
      "Error =  0.37594731759707983 Gradient =  1.6602169058656708\n",
      "Error =  0.37518750612434715 Gradient =  1.8549131476198053\n",
      "Error =  0.37530916006644605 Gradient =  4.915312303878318\n",
      "Error =  0.375500901773169 Gradient =  2.5892063583555665\n",
      "Lamda =  800.0 Val_error 0.12551910967271362\n",
      "Error =  0.375268941778209 Gradient =  1.7504004406202323\n",
      "Error =  0.37505251262626904 Gradient =  0.32365629701975807\n",
      "Error =  0.3752158404908145 Gradient =  2.4394824399491846\n",
      "Error =  0.37500585173018675 Gradient =  2.4235812275229285\n",
      "Lamda =  1600.0 Val_error 0.12518920102526196\n",
      "Error =  0.3750376805631874 Gradient =  1.5353993156152235\n",
      "Error =  0.37505143097574595 Gradient =  3.7813201808629646\n",
      "Error =  0.3750725443248441 Gradient =  3.0982373199675965\n",
      "Error =  0.375058955158895 Gradient =  6.221498438716359\n",
      "Lamda =  3200.0 Val_error 0.12507439345160323\n",
      "Error =  0.37500273092489117 Gradient =  1.8892518157070084\n",
      "Error =  0.37501617943144955 Gradient =  1.5292003315191014\n",
      "Error =  0.37505309859906544 Gradient =  5.1157537190511055\n",
      "Error =  0.37502489586714294 Gradient =  0.7508463827319087\n",
      "Lamda =  6400.0 Val_error 0.1250289319240385\n",
      "Error =  0.3750066071308656 Gradient =  5.299829378679071\n",
      "Error =  0.3750323308577829 Gradient =  1.3259283951231766\n",
      "Error =  0.37500979859795525 Gradient =  2.61577247136703\n",
      "Error =  0.3750104537903482 Gradient =  2.8992568020168874\n",
      "Lamda =  12800.0 Val_error 0.1250180351333718\n",
      "Error =  0.3750129519288993 Gradient =  2.3140283457388664\n",
      "Error =  0.37503501005317696 Gradient =  1.6321800795248265\n",
      "Error =  0.37501940983077836 Gradient =  2.9802770689016223\n",
      "Error =  0.3750037770686187 Gradient =  2.9049283802812322\n",
      "Lamda =  25600.0 Val_error 0.12501949014026792\n",
      "Error =  0.3750054536619518 Gradient =  2.2106215743626363\n",
      "Error =  0.37500734131535957 Gradient =  0.9780148129284708\n",
      "Error =  0.37500533782998513 Gradient =  3.8570919511113337\n",
      "Error =  0.37500215170374623 Gradient =  4.100366374362926\n",
      "Lamda =  51200.0 Val_error 0.12500637964824343\n"
     ]
    }
   ],
   "source": [
    "df_ridge_sgd_lamda = pd.DataFrame(columns = [\"Lamda\",\"Val_error\"])\n",
    "low_ld = 1e+2\n",
    "hi_ld = 1e+5\n",
    "r = 2\n",
    "t = 1\n",
    "while low_ld <= hi_ld:\n",
    "    val_error = k_fold_val_error(x_train,y_train,low_ld,\"ridge_sgd\",20,0.3)\n",
    "    print(\"Lamda = \",low_ld,\"Val_error\",val_error)\n",
    "    df_ridge_sgd_lamda.loc[t-1] = [low_ld,val_error]\n",
    "    t = t+1\n",
    "    low_ld = low_ld * r"
   ]
  },
  {
   "cell_type": "code",
   "execution_count": 358,
   "id": "8a496388",
   "metadata": {},
   "outputs": [
    {
     "data": {
      "text/html": [
       "<div>\n",
       "<style scoped>\n",
       "    .dataframe tbody tr th:only-of-type {\n",
       "        vertical-align: middle;\n",
       "    }\n",
       "\n",
       "    .dataframe tbody tr th {\n",
       "        vertical-align: top;\n",
       "    }\n",
       "\n",
       "    .dataframe thead th {\n",
       "        text-align: right;\n",
       "    }\n",
       "</style>\n",
       "<table border=\"1\" class=\"dataframe\">\n",
       "  <thead>\n",
       "    <tr style=\"text-align: right;\">\n",
       "      <th></th>\n",
       "      <th>Lamda</th>\n",
       "      <th>Val_error</th>\n",
       "    </tr>\n",
       "  </thead>\n",
       "  <tbody>\n",
       "    <tr>\n",
       "      <th>0</th>\n",
       "      <td>100.0</td>\n",
       "      <td>0.126332</td>\n",
       "    </tr>\n",
       "    <tr>\n",
       "      <th>1</th>\n",
       "      <td>200.0</td>\n",
       "      <td>0.126412</td>\n",
       "    </tr>\n",
       "    <tr>\n",
       "      <th>2</th>\n",
       "      <td>400.0</td>\n",
       "      <td>0.125789</td>\n",
       "    </tr>\n",
       "    <tr>\n",
       "      <th>3</th>\n",
       "      <td>800.0</td>\n",
       "      <td>0.125519</td>\n",
       "    </tr>\n",
       "    <tr>\n",
       "      <th>4</th>\n",
       "      <td>1600.0</td>\n",
       "      <td>0.125189</td>\n",
       "    </tr>\n",
       "    <tr>\n",
       "      <th>5</th>\n",
       "      <td>3200.0</td>\n",
       "      <td>0.125074</td>\n",
       "    </tr>\n",
       "    <tr>\n",
       "      <th>6</th>\n",
       "      <td>6400.0</td>\n",
       "      <td>0.125029</td>\n",
       "    </tr>\n",
       "    <tr>\n",
       "      <th>7</th>\n",
       "      <td>12800.0</td>\n",
       "      <td>0.125018</td>\n",
       "    </tr>\n",
       "    <tr>\n",
       "      <th>8</th>\n",
       "      <td>25600.0</td>\n",
       "      <td>0.125019</td>\n",
       "    </tr>\n",
       "    <tr>\n",
       "      <th>9</th>\n",
       "      <td>51200.0</td>\n",
       "      <td>0.125006</td>\n",
       "    </tr>\n",
       "  </tbody>\n",
       "</table>\n",
       "</div>"
      ],
      "text/plain": [
       "     Lamda  Val_error\n",
       "0    100.0   0.126332\n",
       "1    200.0   0.126412\n",
       "2    400.0   0.125789\n",
       "3    800.0   0.125519\n",
       "4   1600.0   0.125189\n",
       "5   3200.0   0.125074\n",
       "6   6400.0   0.125029\n",
       "7  12800.0   0.125018\n",
       "8  25600.0   0.125019\n",
       "9  51200.0   0.125006"
      ]
     },
     "execution_count": 358,
     "metadata": {},
     "output_type": "execute_result"
    }
   ],
   "source": [
    "df_ridge_sgd_lamda"
   ]
  },
  {
   "cell_type": "code",
   "execution_count": 359,
   "id": "b0e19fa3",
   "metadata": {},
   "outputs": [
    {
     "data": {
      "text/plain": [
       "<AxesSubplot:xlabel='Lamda', ylabel='Val_error'>"
      ]
     },
     "execution_count": 359,
     "metadata": {},
     "output_type": "execute_result"
    },
    {
     "data": {
      "image/png": "[encoded data removed]",
      "text/plain": [
       "<Figure size 640x480 with 1 Axes>"
      ]
     },
     "metadata": {},
     "output_type": "display_data"
    }
   ],
   "source": [
    "sns.lineplot(data = df_ridge_sgd_lamda,y = \"Val_error\",x = \"Lamda\")"
   ]
  },
  {
   "cell_type": "markdown",
   "id": "23bdb24b",
   "metadata": {},
   "source": [
    "<b>so lamda = 1e+5</b>"
   ]
  },
  {
   "cell_type": "code",
   "execution_count": 360,
   "id": "d8d0a5e1",
   "metadata": {},
   "outputs": [
    {
     "name": "stdout",
     "output_type": "stream",
     "text": [
      "Error =  0.5000012051039133 Gradient =  1.8430323696853714\n"
     ]
    }
   ],
   "source": [
    "w_ridge_sgd,df_error_ridge_sgd = ridge_sgd(x_train,y_train,1e+5,0.3,20)"
   ]
  },
  {
   "cell_type": "code",
   "execution_count": 362,
   "id": "2dba8df9",
   "metadata": {},
   "outputs": [
    {
     "data": {
      "text/plain": [
       "6.124974355533649"
      ]
     },
     "execution_count": 362,
     "metadata": {},
     "output_type": "execute_result"
    }
   ],
   "source": [
    "error_ridge(x_test,y_test,w_ridge_sgd,1e+5)"
   ]
  },
  {
   "cell_type": "code",
   "execution_count": 372,
   "id": "3d7c00b4",
   "metadata": {},
   "outputs": [
    {
     "data": {
      "text/plain": [
       "0.5000012599739452"
      ]
     },
     "execution_count": 372,
     "metadata": {},
     "output_type": "execute_result"
    }
   ],
   "source": [
    "error_ridge(x_train,y_train,w_ridge_sgd,1e+5)"
   ]
  },
  {
   "cell_type": "code",
   "execution_count": 378,
   "id": "f80a1df0",
   "metadata": {},
   "outputs": [
    {
     "data": {
      "text/plain": [
       "65.87755102040816"
      ]
     },
     "execution_count": 378,
     "metadata": {},
     "output_type": "execute_result"
    }
   ],
   "source": [
    "test_accuracy(x_test,y_test,w_ridge_sgd)"
   ]
  },
  {
   "cell_type": "code",
   "execution_count": 379,
   "id": "a567188c",
   "metadata": {},
   "outputs": [
    {
     "data": {
      "text/plain": [
       "62.25000000000001"
      ]
     },
     "execution_count": 379,
     "metadata": {},
     "output_type": "execute_result"
    }
   ],
   "source": [
    "test_accuracy(x_train,y_train,w_ridge_sgd)"
   ]
  },
  {
   "cell_type": "code",
   "execution_count": 380,
   "id": "79f768cc",
   "metadata": {},
   "outputs": [
    {
     "data": {
      "text/plain": [
       "<AxesSubplot:xlabel='Iteration', ylabel='Error'>"
      ]
     },
     "execution_count": 380,
     "metadata": {},
     "output_type": "execute_result"
    },
    {
     "data": {
      "image/png": "[encoded data removed]",
      "text/plain": [
       "<Figure size 640x480 with 1 Axes>"
      ]
     },
     "metadata": {},
     "output_type": "display_data"
    }
   ],
   "source": [
    "sns.lineplot(data = df_error_ridge_sgd,y = \"Error\",x = \"Iteration\")"
   ]
  },
  {
   "cell_type": "code",
   "execution_count": null,
   "id": "45836146",
   "metadata": {},
   "outputs": [],
   "source": []
  },
  {
   "cell_type": "markdown",
   "id": "b8dbdbad",
   "metadata": {},
   "source": [
    "<b> Mini_Batch Gradient Descent </b>"
   ]
  },
  {
   "cell_type": "code",
   "execution_count": 381,
   "id": "4215ec69",
   "metadata": {},
   "outputs": [],
   "source": [
    "def get_random(x,y,k):\n",
    "    (n,d) = x.shape\n",
    "    indices = np.random.randint(n,size = k)\n",
    "    xk = x[indices]\n",
    "    yk = y[indices]\n",
    "    return xk,yk\n",
    "\n",
    "def ridge_mgd(x,y,lamda,alpha,batch_size,T):\n",
    "    (n,d) = x.shape\n",
    "    # This is random\n",
    "    w = np.random.rand(d,1)\n",
    "    df_error = pd.DataFrame(columns = [\"Iteration\",\"Error\"])\n",
    "    for t in range(1,T):\n",
    "        err = error_ridge(x,y,w,lamda)\n",
    "        df_error.loc[t-1] = [t,err]\n",
    "        xk,yk = get_random(x,y,batch_size)\n",
    "        grad = gradient_ridge(x,y,w,lamda)\n",
    "        dk = -grad\n",
    "        alpha = 1/(lamda*t)\n",
    "        w = w + alpha * dk\n",
    "\n",
    "    print(\"Error = \",err,\"Gradient = \",np.linalg.norm(grad))\n",
    "    return w,df_error"
   ]
  },
  {
   "cell_type": "code",
   "execution_count": 382,
   "id": "55399ec3",
   "metadata": {},
   "outputs": [
    {
     "name": "stdout",
     "output_type": "stream",
     "text": [
      "Error =  0.4898264344908798 Gradient =  0.061179578668984824\n"
     ]
    }
   ],
   "source": [
    "w_ridge_mgd, df_error_ridge_mgd = ridge_mgd(x_train,y_train,3,0.3,20,10)"
   ]
  },
  {
   "cell_type": "code",
   "execution_count": 73,
   "id": "ffb3e3e0",
   "metadata": {},
   "outputs": [
    {
     "data": {
      "text/plain": [
       "array([[-0.000309  ],\n",
       "       [-0.02413279],\n",
       "       [ 0.00844917],\n",
       "       [-0.05948642],\n",
       "       [ 0.01804792]])"
      ]
     },
     "execution_count": 73,
     "metadata": {},
     "output_type": "execute_result"
    }
   ],
   "source": [
    "w_ridge_mgd"
   ]
  },
  {
   "cell_type": "code",
   "execution_count": 74,
   "id": "78aa148d",
   "metadata": {},
   "outputs": [
    {
     "data": {
      "text/plain": [
       "<AxesSubplot:xlabel='Iteration', ylabel='Error'>"
      ]
     },
     "execution_count": 74,
     "metadata": {},
     "output_type": "execute_result"
    },
    {
     "data": {
      "image/png": "[encoded data removed]",
      "text/plain": [
       "<Figure size 640x480 with 1 Axes>"
      ]
     },
     "metadata": {},
     "output_type": "display_data"
    }
   ],
   "source": [
    "sns.lineplot(data = df_error_ridge_mgd,y = \"Error\",x = \"Iteration\")"
   ]
  },
  {
   "cell_type": "code",
   "execution_count": 397,
   "id": "d1fc027a",
   "metadata": {},
   "outputs": [
    {
     "name": "stdout",
     "output_type": "stream",
     "text": [
      "Error =  0.3749990280927576 Gradient =  0.1612702831466092\n",
      "Error =  0.3749989996108898 Gradient =  0.1417814701939445\n",
      "Error =  0.3750006355205991 Gradient =  0.19437524247089433\n",
      "Error =  0.3749992784110072 Gradient =  0.18466403897813147\n",
      "Lamda =  10000.0 Val_error 0.12500586759295332\n",
      "Error =  0.37499969493115826 Gradient =  0.17605457380410985\n",
      "Error =  0.37499975148965686 Gradient =  0.16045373090258813\n",
      "Error =  0.3750006730551113 Gradient =  0.21251946373952527\n",
      "Error =  0.37499906031425034 Gradient =  0.10460662683900097\n",
      "Lamda =  20000.0 Val_error 0.1250032543038424\n",
      "Error =  0.37499975531511825 Gradient =  0.16315183947544423\n",
      "Error =  0.37499993498835815 Gradient =  0.17799756360614227\n",
      "Error =  0.3749998742254077 Gradient =  0.13501684327052438\n",
      "Error =  0.3750001338415056 Gradient =  0.22665236184045354\n",
      "Lamda =  40000.0 Val_error 0.1250015600256385\n",
      "Error =  0.3749997313912754 Gradient =  0.10866374269277666\n",
      "Error =  0.3749998312781471 Gradient =  0.12556648484185026\n",
      "Error =  0.375000287716272 Gradient =  0.24859721878050323\n",
      "Error =  0.3750000489228147 Gradient =  0.21895608025297705\n",
      "Lamda =  80000.0 Val_error 0.12500076322741804\n",
      "Error =  0.3749999724080561 Gradient =  0.18243852726335244\n",
      "Error =  0.3750001109005003 Gradient =  0.24561028973607268\n",
      "Error =  0.3750001635672933 Gradient =  0.25930958349116284\n",
      "Error =  0.3749999669194318 Gradient =  0.18685388814046086\n",
      "Lamda =  160000.0 Val_error 0.12500050214107325\n",
      "Error =  0.3749999924229005 Gradient =  0.19900743522445377\n",
      "Error =  0.3749999758493419 Gradient =  0.15398517349394122\n",
      "Error =  0.374999989870438 Gradient =  0.1342780384580407\n",
      "Error =  0.3749999899189657 Gradient =  0.18490881985353338\n",
      "Lamda =  320000.0 Val_error 0.1250001963543994\n",
      "Error =  0.37499998173369353 Gradient =  0.1740211908983799\n",
      "Error =  0.3749999936662426 Gradient =  0.17002887208521303\n",
      "Error =  0.37499998873115 Gradient =  0.12714167433449702\n",
      "Error =  0.37499996915717276 Gradient =  0.09134128802410324\n",
      "Lamda =  640000.0 Val_error 0.12500008415386232\n"
     ]
    }
   ],
   "source": [
    "df_ridge_mgd_lamda = pd.DataFrame(columns = [\"Lamda\",\"Val_error\"])\n",
    "low_ld = 1e+4\n",
    "hi_ld = 1e+6\n",
    "r = 2\n",
    "t = 1\n",
    "while low_ld <= hi_ld:\n",
    "    val_error = k_fold_val_error(x_train,y_train,low_ld,\"ridge_mgd\",20,0.3,10)\n",
    "    print(\"Lamda = \",low_ld,\"Val_error\",val_error)\n",
    "    df_ridge_mgd_lamda.loc[t-1] = [low_ld,val_error]\n",
    "    t = t+1\n",
    "    low_ld = low_ld * r"
   ]
  },
  {
   "cell_type": "code",
   "execution_count": 398,
   "id": "7295f24c",
   "metadata": {},
   "outputs": [
    {
     "data": {
      "text/html": [
       "<div>\n",
       "<style scoped>\n",
       "    .dataframe tbody tr th:only-of-type {\n",
       "        vertical-align: middle;\n",
       "    }\n",
       "\n",
       "    .dataframe tbody tr th {\n",
       "        vertical-align: top;\n",
       "    }\n",
       "\n",
       "    .dataframe thead th {\n",
       "        text-align: right;\n",
       "    }\n",
       "</style>\n",
       "<table border=\"1\" class=\"dataframe\">\n",
       "  <thead>\n",
       "    <tr style=\"text-align: right;\">\n",
       "      <th></th>\n",
       "      <th>Lamda</th>\n",
       "      <th>Val_error</th>\n",
       "    </tr>\n",
       "  </thead>\n",
       "  <tbody>\n",
       "    <tr>\n",
       "      <th>0</th>\n",
       "      <td>10000.0</td>\n",
       "      <td>0.125006</td>\n",
       "    </tr>\n",
       "    <tr>\n",
       "      <th>1</th>\n",
       "      <td>20000.0</td>\n",
       "      <td>0.125003</td>\n",
       "    </tr>\n",
       "    <tr>\n",
       "      <th>2</th>\n",
       "      <td>40000.0</td>\n",
       "      <td>0.125002</td>\n",
       "    </tr>\n",
       "    <tr>\n",
       "      <th>3</th>\n",
       "      <td>80000.0</td>\n",
       "      <td>0.125001</td>\n",
       "    </tr>\n",
       "    <tr>\n",
       "      <th>4</th>\n",
       "      <td>160000.0</td>\n",
       "      <td>0.125001</td>\n",
       "    </tr>\n",
       "    <tr>\n",
       "      <th>5</th>\n",
       "      <td>320000.0</td>\n",
       "      <td>0.125000</td>\n",
       "    </tr>\n",
       "    <tr>\n",
       "      <th>6</th>\n",
       "      <td>640000.0</td>\n",
       "      <td>0.125000</td>\n",
       "    </tr>\n",
       "  </tbody>\n",
       "</table>\n",
       "</div>"
      ],
      "text/plain": [
       "      Lamda  Val_error\n",
       "0   10000.0   0.125006\n",
       "1   20000.0   0.125003\n",
       "2   40000.0   0.125002\n",
       "3   80000.0   0.125001\n",
       "4  160000.0   0.125001\n",
       "5  320000.0   0.125000\n",
       "6  640000.0   0.125000"
      ]
     },
     "execution_count": 398,
     "metadata": {},
     "output_type": "execute_result"
    }
   ],
   "source": [
    "df_ridge_mgd_lamda"
   ]
  },
  {
   "cell_type": "code",
   "execution_count": 399,
   "id": "8c89cc3b",
   "metadata": {},
   "outputs": [
    {
     "data": {
      "text/plain": [
       "<AxesSubplot:xlabel='Lamda', ylabel='Val_error'>"
      ]
     },
     "execution_count": 399,
     "metadata": {},
     "output_type": "execute_result"
    },
    {
     "data": {
      "image/png": "[encoded data removed]",
      "text/plain": [
       "<Figure size 640x480 with 1 Axes>"
      ]
     },
     "metadata": {},
     "output_type": "display_data"
    }
   ],
   "source": [
    "sns.lineplot(data = df_ridge_mgd_lamda,y = \"Val_error\",x = \"Lamda\")"
   ]
  },
  {
   "cell_type": "markdown",
   "id": "d6fdc81a",
   "metadata": {},
   "source": [
    "<b>So lamda = 1e+6</b>"
   ]
  },
  {
   "cell_type": "code",
   "execution_count": 393,
   "id": "7cfbe332",
   "metadata": {},
   "outputs": [
    {
     "name": "stdout",
     "output_type": "stream",
     "text": [
      "Error =  0.4999999953876457 Gradient =  0.2892240982540651\n"
     ]
    }
   ],
   "source": [
    "w_ridge_mgd, df_error_ridge_mgd = ridge_mgd(x_train,y_train,1e+6,0.3,20,10)"
   ]
  },
  {
   "cell_type": "code",
   "execution_count": 394,
   "id": "d3c48a26",
   "metadata": {},
   "outputs": [
    {
     "data": {
      "text/plain": [
       "array([[-3.98344191e-08],\n",
       "       [-1.19756180e-07],\n",
       "       [-2.10426112e-07],\n",
       "       [-4.11418953e-07],\n",
       "       [ 2.99896274e-08]])"
      ]
     },
     "execution_count": 394,
     "metadata": {},
     "output_type": "execute_result"
    }
   ],
   "source": [
    "w_ridge_mgd"
   ]
  },
  {
   "cell_type": "code",
   "execution_count": 402,
   "id": "bed57dc2",
   "metadata": {},
   "outputs": [
    {
     "data": {
      "text/plain": [
       "56.18367346938775"
      ]
     },
     "execution_count": 402,
     "metadata": {},
     "output_type": "execute_result"
    }
   ],
   "source": [
    "test_accuracy(x_test,y_test,w_ridge_mgd)"
   ]
  },
  {
   "cell_type": "code",
   "execution_count": 396,
   "id": "e0fed544",
   "metadata": {},
   "outputs": [
    {
     "data": {
      "text/plain": [
       "57.25"
      ]
     },
     "execution_count": 396,
     "metadata": {},
     "output_type": "execute_result"
    }
   ],
   "source": [
    "test_accuracy(x_train,y_train,w_ridge_mgd)"
   ]
  },
  {
   "cell_type": "code",
   "execution_count": null,
   "id": "347f1ef7",
   "metadata": {},
   "outputs": [],
   "source": []
  },
  {
   "cell_type": "code",
   "execution_count": null,
   "id": "41f9c04e",
   "metadata": {},
   "outputs": [],
   "source": []
  },
  {
   "cell_type": "code",
   "execution_count": 404,
   "id": "2c9be547",
   "metadata": {},
   "outputs": [
    {
     "data": {
      "text/plain": [
       "array([[ 0.02135083],\n",
       "       [-0.07714489],\n",
       "       [ 0.05106428],\n",
       "       [-0.21231316],\n",
       "       [ 0.15088219]])"
      ]
     },
     "execution_count": 404,
     "metadata": {},
     "output_type": "execute_result"
    }
   ],
   "source": [
    "w_ridge_sd"
   ]
  },
  {
   "cell_type": "code",
   "execution_count": 451,
   "id": "4de45c7e",
   "metadata": {},
   "outputs": [
    {
     "data": {
      "image/png": "[encoded data removed]",
      "text/plain": [
       "<Figure size 640x480 with 1 Axes>"
      ]
     },
     "metadata": {},
     "output_type": "display_data"
    }
   ],
   "source": [
    "import numpy as np\n",
    "import matplotlib.pyplot as plt\n",
    "\n",
    "def f(x,y,w):\n",
    "    return w[2]*x**2+w[4]*x*y+w[3]*y**2+w[0]*x+w[1]*y\n",
    "\n",
    "xx = np.arange(-3.0,3.0,0.07)\n",
    "yy = np.arange(-3.0,3.0,0.07)\n",
    "XX, YY = np.meshgrid(xx,yy)\n",
    "plt.contour(xx, yy, f(XX, YY,w_ridge_sd),[0])\n",
    "colors = {1 : \"dimgrey\",-1 : \"bisque\"}\n",
    "plt.scatter(x_test[:,0],x_test[:,1],c=df[\"y\"][400:].apply(lambda x: colors[x]))\n",
    "#sns.relplot(data = df,x = \"x1\",y = \"x2\", hue = \"y\")\n",
    "plt.show()"
   ]
  },
  {
   "cell_type": "code",
   "execution_count": null,
   "id": "aed64788",
   "metadata": {},
   "outputs": [],
   "source": []
  }
 ],
 "metadata": {
  "kernelspec": {
   "display_name": "Python 3 (ipykernel)",
   "language": "python",
   "name": "python3"
  },
  "language_info": {
   "codemirror_mode": {
    "name": "ipython",
    "version": 3
   },
   "file_extension": ".py",
   "mimetype": "text/x-python",
   "name": "python",
   "nbconvert_exporter": "python",
   "pygments_lexer": "ipython3",
   "version": "3.10.5"
  }
 },
 "nbformat": 4,
 "nbformat_minor": 5
}
